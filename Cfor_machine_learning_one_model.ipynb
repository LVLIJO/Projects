{
  "nbformat": 4,
  "nbformat_minor": 0,
  "metadata": {
    "colab": {
      "provenance": [],
      "authorship_tag": "ABX9TyOr3gulPKgFEMREonRXszQ+",
      "include_colab_link": true
    },
    "kernelspec": {
      "name": "python3",
      "display_name": "Python 3"
    },
    "language_info": {
      "name": "python"
    }
  },
  "cells": [
    {
      "cell_type": "markdown",
      "metadata": {
        "id": "view-in-github",
        "colab_type": "text"
      },
      "source": [
        "<a href=\"https://colab.research.google.com/github/LVLIJO/Projects/blob/main/Cfor_machine_learning_one_model.ipynb\" target=\"_parent\"><img src=\"https://colab.research.google.com/assets/colab-badge.svg\" alt=\"Open In Colab\"/></a>"
      ]
    },
    {
      "cell_type": "code",
      "execution_count": null,
      "metadata": {
        "colab": {
          "base_uri": "https://localhost:8080/"
        },
        "id": "bOZYscL9TMwZ",
        "outputId": "ac4788a5-adff-4119-a339-867c4f680006"
      },
      "outputs": [
        {
          "output_type": "stream",
          "name": "stdout",
          "text": [
            "#pragma once\n",
            "#include <cstdarg>\n",
            "namespace Eloquent {\n",
            "    namespace ML {\n",
            "        namespace Port {\n",
            "            class RandomForest {\n",
            "                public:\n",
            "                    /**\n",
            "                    * Predict class for features vector\n",
            "                    */\n",
            "                    int predict(float *x) {\n",
            "                        uint8_t votes[2] = { 0 };\n",
            "                        // tree #1\n",
            "                        if (x[1] <= 777.5) {\n",
            "                            votes[0] += 1;\n",
            "                        }\n",
            "\n",
            "                        else {\n",
            "                            votes[1] += 1;\n",
            "                        }\n",
            "\n",
            "                        // tree #2\n",
            "                        if (x[0] <= 29.0) {\n",
            "                            votes[1] += 1;\n",
            "                        }\n",
            "\n",
            "                        else {\n",
            "                            votes[0] += 1;\n",
            "                        }\n",
            "\n",
            "                        // tree #3\n",
            "                        if (x[1] <= 751.5) {\n",
            "                            votes[0] += 1;\n",
            "                        }\n",
            "\n",
            "                        else {\n",
            "                            votes[1] += 1;\n",
            "                        }\n",
            "\n",
            "                        // tree #4\n",
            "                        if (x[2] <= 70.0) {\n",
            "                            votes[0] += 1;\n",
            "                        }\n",
            "\n",
            "                        else {\n",
            "                            votes[1] += 1;\n",
            "                        }\n",
            "\n",
            "                        // tree #5\n",
            "                        if (x[1] <= 769.5) {\n",
            "                            votes[0] += 1;\n",
            "                        }\n",
            "\n",
            "                        else {\n",
            "                            votes[1] += 1;\n",
            "                        }\n",
            "\n",
            "                        // tree #6\n",
            "                        if (x[1] <= 769.5) {\n",
            "                            votes[0] += 1;\n",
            "                        }\n",
            "\n",
            "                        else {\n",
            "                            votes[1] += 1;\n",
            "                        }\n",
            "\n",
            "                        // tree #7\n",
            "                        if (x[1] <= 769.5) {\n",
            "                            votes[0] += 1;\n",
            "                        }\n",
            "\n",
            "                        else {\n",
            "                            votes[1] += 1;\n",
            "                        }\n",
            "\n",
            "                        // tree #8\n",
            "                        if (x[0] <= 29.0) {\n",
            "                            votes[1] += 1;\n",
            "                        }\n",
            "\n",
            "                        else {\n",
            "                            votes[0] += 1;\n",
            "                        }\n",
            "\n",
            "                        // tree #9\n",
            "                        if (x[1] <= 769.5) {\n",
            "                            votes[0] += 1;\n",
            "                        }\n",
            "\n",
            "                        else {\n",
            "                            votes[1] += 1;\n",
            "                        }\n",
            "\n",
            "                        // tree #10\n",
            "                        if (x[0] <= 29.0) {\n",
            "                            votes[1] += 1;\n",
            "                        }\n",
            "\n",
            "                        else {\n",
            "                            votes[0] += 1;\n",
            "                        }\n",
            "\n",
            "                        // return argmax of votes\n",
            "                        uint8_t classIdx = 0;\n",
            "                        float maxVotes = votes[0];\n",
            "\n",
            "                        for (uint8_t i = 1; i < 2; i++) {\n",
            "                            if (votes[i] > maxVotes) {\n",
            "                                classIdx = i;\n",
            "                                maxVotes = votes[i];\n",
            "                            }\n",
            "                        }\n",
            "\n",
            "                        return classIdx;\n",
            "                    }\n",
            "\n",
            "                protected:\n",
            "                };\n",
            "            }\n",
            "        }\n",
            "    }\n"
          ]
        }
      ],
      "source": [
        "import pandas as pd\n",
        "from sklearn.ensemble import RandomForestClassifier\n",
        "from sklearn.model_selection import train_test_split\n",
        "from micromlgen import port\n",
        "\n",
        "# Load dataset\n",
        "df = pd.read_excel(\"Sensor data esp.xlsx\")\n",
        "\n",
        "# Features and target\n",
        "X = df[['Temperature', 'Gas', 'Humidity']]\n",
        "y = df['Overall_Condition'].map({'Good': 0, 'Bad': 1})  # Adjust if needed\n",
        "\n",
        "# Train model\n",
        "X_train, X_test, y_train, y_test = train_test_split(X, y, test_size=0.2, random_state=42)\n",
        "model = RandomForestClassifier(n_estimators=10, max_depth=5)\n",
        "model.fit(X_train, y_train)\n",
        "\n",
        "# Convert to C\n",
        "print(port(model))\n"
      ]
    },
    {
      "cell_type": "code",
      "source": [
        "!pip install micromlgen\n",
        "\n"
      ],
      "metadata": {
        "colab": {
          "base_uri": "https://localhost:8080/"
        },
        "id": "5Sq145jLT4eG",
        "outputId": "d0d67027-0f09-46ed-d74b-80fdced39206"
      },
      "execution_count": null,
      "outputs": [
        {
          "output_type": "stream",
          "name": "stdout",
          "text": [
            "Collecting micromlgen\n",
            "  Downloading micromlgen-1.1.28.tar.gz (12 kB)\n",
            "  Preparing metadata (setup.py) ... \u001b[?25l\u001b[?25hdone\n",
            "Requirement already satisfied: jinja2 in /usr/local/lib/python3.12/dist-packages (from micromlgen) (3.1.6)\n",
            "Requirement already satisfied: MarkupSafe>=2.0 in /usr/local/lib/python3.12/dist-packages (from jinja2->micromlgen) (3.0.2)\n",
            "Building wheels for collected packages: micromlgen\n",
            "  Building wheel for micromlgen (setup.py) ... \u001b[?25l\u001b[?25hdone\n",
            "  Created wheel for micromlgen: filename=micromlgen-1.1.28-py3-none-any.whl size=32152 sha256=3233ef6ed97260cb94b9a99328c5061b262143d9302aa739555c58d71878a86c\n",
            "  Stored in directory: /root/.cache/pip/wheels/16/02/8a/3a8b533174e4f7691a8fd72dab4493fb6819b79f8fcc1d18a6\n",
            "Successfully built micromlgen\n",
            "Installing collected packages: micromlgen\n",
            "Successfully installed micromlgen-1.1.28\n"
          ]
        }
      ]
    },
    {
      "cell_type": "code",
      "source": [
        "from micromlgen import port\n"
      ],
      "metadata": {
        "id": "R6mZsbz_T6Di"
      },
      "execution_count": null,
      "outputs": []
    },
    {
      "cell_type": "code",
      "source": [],
      "metadata": {
        "id": "6ME62q9UT-IE"
      },
      "execution_count": null,
      "outputs": []
    }
  ]
}
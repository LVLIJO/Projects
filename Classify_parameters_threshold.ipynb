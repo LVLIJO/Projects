{
  "nbformat": 4,
  "nbformat_minor": 0,
  "metadata": {
    "colab": {
      "provenance": [],
      "authorship_tag": "ABX9TyNSd9goqf7q96qjmcdrwb+s",
      "include_colab_link": true
    },
    "kernelspec": {
      "name": "python3",
      "display_name": "Python 3"
    },
    "language_info": {
      "name": "python"
    }
  },
  "cells": [
    {
      "cell_type": "markdown",
      "metadata": {
        "id": "view-in-github",
        "colab_type": "text"
      },
      "source": [
        "<a href=\"https://colab.research.google.com/github/LVLIJO/Projects/blob/main/Classify_parameters_threshold.ipynb\" target=\"_parent\"><img src=\"https://colab.research.google.com/assets/colab-badge.svg\" alt=\"Open In Colab\"/></a>"
      ]
    },
    {
      "cell_type": "code",
      "execution_count": null,
      "metadata": {
        "id": "E5Jra0wfDDwP"
      },
      "outputs": [],
      "source": [
        "import pandas as pd\n",
        "\n",
        "# Load your Excel file\n",
        "df = pd.read_excel('Data for project.xlsx')  # Replace with your actual filename\n",
        "\n",
        "# --- Classification Functions ---\n",
        "\n",
        "def classify_temperature(temp):\n",
        "    if temp > 35:\n",
        "        return 'Very Poor'\n",
        "    elif temp > 30:\n",
        "        return 'Moderate'\n",
        "    elif temp >= 20:\n",
        "        return 'Good'\n",
        "    else:\n",
        "        return 'Very Poor'  # Too cold\n",
        "\n",
        "def classify_gas(ppm):\n",
        "    if ppm > 700:\n",
        "        return 'Very Poor'\n",
        "    elif ppm > 500:\n",
        "        return 'Poor'\n",
        "    elif ppm > 300:\n",
        "        return 'Moderate'\n",
        "    elif ppm >= 100:\n",
        "        return 'Good'\n",
        "    else:\n",
        "        return 'Excellent'\n",
        "\n",
        "def classify_humidity(hum):\n",
        "    if hum > 80 or hum < 20:\n",
        "        return 'Very Poor'\n",
        "    elif hum > 60 or hum < 30:\n",
        "        return 'Moderate'\n",
        "    else:\n",
        "        return 'Good'\n",
        "\n",
        "def overall_condition(temp, gas, hum):\n",
        "    # If any parameter is Very Poor, overall is Very Poor\n",
        "    if (classify_temperature(temp) == 'Very Poor' or\n",
        "        classify_gas(gas) == 'Very Poor' or\n",
        "        classify_humidity(hum) == 'Very Poor'):\n",
        "        return 'Bad'\n",
        "    else:\n",
        "        return 'Good'\n",
        "\n",
        "# --- Apply Classifications to DataFrame ---\n",
        "\n",
        "df['Temp_Condition'] = df['Temperature'].apply(classify_temperature)\n",
        "df['Gas_Condition'] = df['Gas'].apply(classify_gas)\n",
        "df['Humidity_Condition'] = df['Humidity'].apply(classify_humidity)\n",
        "df['Overall_Condition'] = df.apply(lambda row: overall_condition(row['Temperature'], row['Gas'], row['Humidity']), axis=1)\n",
        "\n",
        "# --- Save Updated Excel File ---\n",
        "df.to_excel('Data for project.xlsx', index=False)"
      ]
    }
  ]
}